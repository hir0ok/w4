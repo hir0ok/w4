{
 "cells": [
  {
   "cell_type": "markdown",
   "id": "spread-pharmacy",
   "metadata": {},
   "source": [
    "# Package Inclusion\n",
    "* Sympy :: To define the set of nonlinear equations\n",
    "* Numpy :: For iterative solver\n",
    "* Scipy :: To use Linear solver\n",
    "* Matplotlib :: For Basin figure"
   ]
  },
  {
   "cell_type": "code",
   "execution_count": 1,
   "id": "modern-anger",
   "metadata": {},
   "outputs": [],
   "source": [
    "import sympy as sy;\n",
    "import numpy as np;\n",
    "from numpy import cos,sin,pi;\n",
    "from scipy import linalg;\n",
    "import matplotlib.pyplot as plt;"
   ]
  },
  {
   "cell_type": "markdown",
   "id": "wooden-steam",
   "metadata": {},
   "source": [
    "# Parameter Setup\n",
    "For the W4 method, we define\n",
    "* dim : dimension of system\n",
    "* dtau : $\\Delta\\tau$ for evolution\n",
    "* errmax : Criterion of error to stop iteration\n",
    "* itermax : Maximum iteration."
   ]
  },
  {
   "cell_type": "code",
   "execution_count": 2,
   "id": "enhanced-probability",
   "metadata": {},
   "outputs": [],
   "source": [
    "dim=2;"
   ]
  },
  {
   "cell_type": "code",
   "execution_count": 3,
   "id": "disabled-victorian",
   "metadata": {},
   "outputs": [],
   "source": [
    "dtau=0.5;\n",
    "errmax = pow(10,-4);\n",
    "itermax = pow(10,3);"
   ]
  },
  {
   "cell_type": "code",
   "execution_count": 4,
   "id": "equal-president",
   "metadata": {},
   "outputs": [],
   "source": [
    "### Variables\n",
    "### x[0], x[1], x[2], x[3], ... , x[dim-1]\n",
    "### \n",
    "x = []\n",
    "for i in range(dim):\n",
    "    vname = 'x[' + str(i) +']';\n",
    "    x.append(sy.symbols(vname));"
   ]
  },
  {
   "cell_type": "markdown",
   "id": "addressed-cornell",
   "metadata": {},
   "source": [
    "# Definition of Source in the Sympy style\n",
    "* **F**(**x**) : System of nonlinear equations\n",
    "* |**F**(**x**)| : Absolute components\n",
    "* J : Jacobian matrix $\\partial$ **F** / $\\partial$ **x**"
   ]
  },
  {
   "cell_type": "code",
   "execution_count": 5,
   "id": "explicit-psychology",
   "metadata": {},
   "outputs": [],
   "source": [
    "### Source\n",
    "### f[0], f[1], f[2], ... , f[dim-1]\n",
    "f = [];\n",
    "f.append( (x[0]**2 +x[1]**2 -4) );\n",
    "f.append( (x[0]**2*x[1] -1) );"
   ]
  },
  {
   "cell_type": "code",
   "execution_count": 6,
   "id": "going-armenia",
   "metadata": {},
   "outputs": [],
   "source": [
    "# input source\n",
    "def calc_source(x,f):\n",
    "\n",
    "### Summation of absolute values of all terms in each equation\n",
    "###  to compare the error with the typical value of each equation\n",
    "    fa = [];\n",
    "    for j in range(dim):\n",
    "        tmp = 0;\n",
    "        for i in range(len(f[j].args)):\n",
    "            tmp = tmp + abs(f[j].args[i]);\n",
    "        fa.append(tmp);        \n",
    "\n",
    "### Definition of variables, sources, absolute sources(x, F, |F|) as vector\n",
    "    v = sy.Matrix([x]).transpose();\n",
    "    F = sy.Matrix([f]).transpose();\n",
    "    Fa = sy.Matrix([fa]).transpose();\n",
    "    \n",
    "### Analytic calculation of Jacobian(dim x dim Matrix)\n",
    "    J = sy.Matrix();\n",
    "    for i in range(dim):\n",
    "        J = J.col_insert(i,F.diff(x[i]));    \n",
    "\n",
    "### From Sympy to Numpy\n",
    "    arg = v.transpose();\n",
    "    vn = sy.lambdify(arg, v, \"numpy\")\n",
    "    Fn = sy.lambdify(arg, F, \"numpy\")\n",
    "    Fan = sy.lambdify(arg, Fa, \"numpy\")\n",
    "    Jacn = sy.lambdify(arg, J, \"numpy\")        \n",
    "        \n",
    "    return vn,Fn,Fan,Jacn;"
   ]
  },
  {
   "cell_type": "code",
   "execution_count": 7,
   "id": "young-arthritis",
   "metadata": {},
   "outputs": [],
   "source": [
    "vn, Fn, Fan, Jacn = calc_source(x,f);"
   ]
  },
  {
   "cell_type": "markdown",
   "id": "opened-symbol",
   "metadata": {},
   "source": [
    "# Problem we want to solve\n",
    "\n",
    "* Find the points where two curves cross\n",
    "* There are four solutions from the figure below."
   ]
  },
  {
   "cell_type": "code",
   "execution_count": 8,
   "id": "brutal-ireland",
   "metadata": {},
   "outputs": [
    {
     "data": {
      "image/png": "[encoded data removed]",
      "text/plain": [
       "<Figure size 576x576 with 1 Axes>"
      ]
     },
     "metadata": {
      "needs_background": "light"
     },
     "output_type": "display_data"
    }
   ],
   "source": [
    "fig = plt.figure(figsize=(8,8));\n",
    "ax = fig.add_subplot(1,1,1);\n",
    "\n",
    "theta = np.linspace(0,2.0*pi,100);\n",
    "x1 = 2.0*cos(theta);\n",
    "y1 = 2.0*sin(theta);\n",
    "ax.plot(x1,y1);\n",
    "x2 = np.linspace(-5.,5.,100);\n",
    "y2 = 1./x2**2;\n",
    "ax.plot(x2,y2);\n",
    "ax.set_xlabel(\"$x$\");\n",
    "ax.set_ylabel(\"$y$\");\n",
    "ax.set_xlim(-5,5);\n",
    "ax.set_ylim(-5,5);\n",
    "ax.set_aspect('equal');\n",
    "ax.set_title(\"Problem\");\n"
   ]
  },
  {
   "cell_type": "markdown",
   "id": "white-bachelor",
   "metadata": {},
   "source": [
    "# Definition :: Newton-Raphson method"
   ]
  },
  {
   "cell_type": "code",
   "execution_count": 9,
   "id": "serious-carpet",
   "metadata": {},
   "outputs": [],
   "source": [
    "### NR method\n",
    "def nrlu(v,F,Fa,J,ini,dt,itermax,errmax):\n",
    "    \n",
    "### Initialization for x as v0\n",
    "#    p0 = np.zeros(dim);\n",
    "    v0 = v(*ini).transpose()[0];\n",
    "\n",
    "### Main iteration Loop\n",
    "    for i in range(itermax):\n",
    "        J0=J(*v0);\n",
    "        F0=F(*v0).transpose()[0].transpose();\n",
    "        Fa0=Fa(*v0).transpose()[0].transpose();\n",
    "\n",
    "### Criterion to stop the iteration\n",
    "### Evaluation of Source F\n",
    "        err = 0.0;\n",
    "        for k in range(dim):\n",
    "            err = max(err,abs(F0[k]/Fa0[k]));\n",
    "            \n",
    "        if err < errmax:\n",
    "            break;\n",
    "\n",
    "### Decomposition of Jacobian into U and L\n",
    "        P, L, U = linalg.lu(J0);\n",
    "        srcx = -linalg.solve(U,linalg.solve(L,linalg.solve(P,F0)));\n",
    "\n",
    "### Increment of x\n",
    "        v0 = v0 +srcx*dt;\n",
    "        \n",
    "    return v0, i, err"
   ]
  },
  {
   "cell_type": "markdown",
   "id": "geographic-importance",
   "metadata": {},
   "source": [
    "# Definition :: W4UL method"
   ]
  },
  {
   "cell_type": "code",
   "execution_count": 10,
   "id": "modified-outline",
   "metadata": {},
   "outputs": [],
   "source": [
    "### W4 method with UL decomposition\n",
    "def w4ul(v,F,Fa,J,ini,dt,itermax,errmax):\n",
    "    \n",
    "### Initialization for x and p as v0 and p0\n",
    "    p0 = np.zeros(dim);\n",
    "    v0 = v(*ini).transpose()[0];\n",
    "\n",
    "### Main iteration Loop\n",
    "    for i in range(itermax):\n",
    "        J0=J(*v0);\n",
    "        F0=F(*v0).transpose()[0].transpose();\n",
    "        Fa0=Fa(*v0).transpose()[0].transpose();\n",
    "\n",
    "### Criterion to stop the iteration\n",
    "### Evaluation of Source F\n",
    "        err = 0.0;\n",
    "        for k in range(dim):\n",
    "            err = max(err,abs(F0[k]/Fa0[k]));\n",
    "            \n",
    "        if err < errmax:\n",
    "            break;\n",
    "\n",
    "### Decomposition of Jacobian into U and L\n",
    "        Jinv = linalg.inv(J0);\n",
    "        P, L, U = linalg.lu(Jinv.transpose());\n",
    "        srcp = -2*p0 -L.transpose().dot(P.dot(F0));\n",
    "        srcx = U.transpose().dot(p0);\n",
    "\n",
    "### Increment of x and p\n",
    "        v0 = v0 +srcx*dt;\n",
    "        p0 = p0 +srcp*dt;\n",
    "        \n",
    "    return v0, i, err"
   ]
  },
  {
   "cell_type": "markdown",
   "id": "voluntary-scotland",
   "metadata": {},
   "source": [
    "# Definition :: W4LH method"
   ]
  },
  {
   "cell_type": "code",
   "execution_count": 11,
   "id": "becoming-vampire",
   "metadata": {},
   "outputs": [],
   "source": [
    "### W4 method with LH decomposition\n",
    "def w4lh(v,F,Fa,J,ini,dt,itermax,errmax):\n",
    "    \n",
    "### Initialization for x and p as v0 and p0\n",
    "    p0 = np.zeros(dim);\n",
    "    v0 = v(*ini).transpose()[0];\n",
    "\n",
    "### Main Iteration Loop\n",
    "    for i in range(itermax):\n",
    "        J0=J(*v0);\n",
    "        F0=F(*v0).transpose()[0].transpose();\n",
    "        Fa0=Fa(*v0).transpose()[0].transpose();\n",
    "\n",
    "### Criterion to stop the iteration\n",
    "### Evaluation of Source F\n",
    "        err = 0.0;\n",
    "        for k in range(dim):\n",
    "            err = max(err,abs(F0[k]/Fa0[k]));\n",
    "            \n",
    "        if err < errmax:\n",
    "            break;\n",
    "\n",
    "### Decomposition of Jacobian into L and H\n",
    "        Q, R = linalg.qr(J0.transpose());\n",
    "        srcp = -2*p0 -linalg.solve(R.transpose(),F0);\n",
    "        srcx = Q.dot(p0);\n",
    "        v0 = v0 +srcx*dt;\n",
    "        p0 = p0 +srcp*dt;\n",
    "        \n",
    "    return v0, i, err"
   ]
  },
  {
   "cell_type": "markdown",
   "id": "interested-effectiveness",
   "metadata": {},
   "source": [
    "# Results by Newton-Raphson method"
   ]
  },
  {
   "cell_type": "code",
   "execution_count": 12,
   "id": "streaming-chaos",
   "metadata": {},
   "outputs": [],
   "source": [
    "### Output data for Basin Plot by the W4UL\n",
    "dtau=1.;\n",
    "errmax = pow(10,-4);\n",
    "itermax = pow(10,3);\n",
    "\n",
    "### Number of Division(Resolution for Basin Plot)\n",
    "ND=20\n",
    "xd_nr = np.array([]);\n",
    "yd_nr = np.array([]);\n",
    "zd_nr = np.array([]);\n",
    "wd_nr = np.array([]);\n",
    "\n",
    "for i in range(ND):\n",
    "    for j in range(ND):\n",
    "\n",
    "### Initial guess\n",
    "        vini = np.array([]);\n",
    "        x0 = (i+0.5)*10./ND -5.;\n",
    "        y0 = (j+0.5)*10./ND -5.;\n",
    "        vini = np.append(vini, x0);\n",
    "        vini = np.append(vini, y0);\n",
    "\n",
    "### Nonlinear Solver by the Newton-Raphson method\n",
    "        vans, iter, err = nrlu(vn,Fn,Fan,Jacn,vini,dtau,itermax,errmax);\n",
    "\n",
    "### Save data\n",
    "        wd_nr = np.append(wd_nr,iter);\n",
    "        xd_nr = np.append(xd_nr,x0);\n",
    "        yd_nr = np.append(yd_nr,y0);\n",
    "        if(iter>=(itermax-1)):\n",
    "            zd_nr = np.append(zd_nr,0);\n",
    "        else:\n",
    "            zd_nr = np.append(zd_nr,vans[0]);"
   ]
  },
  {
   "cell_type": "markdown",
   "id": "hydraulic-planner",
   "metadata": {},
   "source": [
    "# Results by W4UL method"
   ]
  },
  {
   "cell_type": "code",
   "execution_count": 13,
   "id": "color-german",
   "metadata": {},
   "outputs": [],
   "source": [
    "### Output data for Basin Plot by the W4UL\n",
    "dtau=0.5;\n",
    "errmax = pow(10,-4);\n",
    "itermax = pow(10,3);\n",
    "\n",
    "### Number of Division(Resolution for Basin Plot)\n",
    "ND=20\n",
    "xd_w4ul = np.array([]);\n",
    "yd_w4ul = np.array([]);\n",
    "zd_w4ul = np.array([]);\n",
    "wd_w4ul = np.array([]);\n",
    "\n",
    "for i in range(ND):\n",
    "    for j in range(ND):\n",
    "\n",
    "### Initial guess\n",
    "        vini = np.array([]);\n",
    "        x0 = (i+0.5)*10./ND -5.;\n",
    "        y0 = (j+0.5)*10./ND -5.;\n",
    "        vini = np.append(vini, x0);\n",
    "        vini = np.append(vini, y0);\n",
    "\n",
    "### Nonlinear Solver by the W4 method with the UL decomposition \n",
    "        vans, iter, err = w4ul(vn,Fn,Fan,Jacn,vini,dtau,itermax,errmax);\n",
    "\n",
    "### Save data\n",
    "        wd_w4ul = np.append(wd_w4ul,iter);\n",
    "        xd_w4ul = np.append(xd_w4ul,x0);\n",
    "        yd_w4ul = np.append(yd_w4ul,y0);\n",
    "        if(iter>=(itermax-1)):\n",
    "            zd_w4ul = np.append(zd_w4ul,0);\n",
    "        else:\n",
    "            zd_w4ul = np.append(zd_w4ul,vans[0]);"
   ]
  },
  {
   "cell_type": "markdown",
   "id": "compliant-projector",
   "metadata": {},
   "source": [
    "# Results by W4LH method"
   ]
  },
  {
   "cell_type": "code",
   "execution_count": 14,
   "id": "subjective-shade",
   "metadata": {},
   "outputs": [],
   "source": [
    "### Output data for Basin Plot by the W4UL\n",
    "dtau=0.5;\n",
    "errmax = pow(10,-4);\n",
    "itermax = pow(10,3);\n",
    "\n",
    "### Number of Division(Resolution for Basin Plot)\n",
    "ND=20\n",
    "xd_w4lh = np.array([]);\n",
    "yd_w4lh = np.array([]);\n",
    "zd_w4lh = np.array([]);\n",
    "wd_w4lh = np.array([]);\n",
    "\n",
    "for i in range(ND):\n",
    "    for j in range(ND):\n",
    "\n",
    "### Initial guess\n",
    "        vini = np.array([]);\n",
    "        x0 = (i+0.5)*10./ND -5.;\n",
    "        y0 = (j+0.5)*10./ND -5.;\n",
    "        vini = np.append(vini, x0);\n",
    "        vini = np.append(vini, y0);\n",
    "\n",
    "### Nonlinear Solver by the W4 method with the LH decomposition \n",
    "        vans, iter, err = w4lh(vn,Fn,Fan,Jacn,vini,dtau,itermax,errmax);\n",
    "\n",
    "### Save data\n",
    "        wd_w4lh = np.append(wd_w4lh,iter);\n",
    "        xd_w4lh = np.append(xd_w4lh,x0);\n",
    "        yd_w4lh = np.append(yd_w4lh,y0);\n",
    "        if(iter>=(itermax-1)):\n",
    "            zd_w4lh = np.append(zd_w4lh,0);\n",
    "        else:\n",
    "            zd_w4lh = np.append(zd_w4lh,vans[0]);"
   ]
  },
  {
   "cell_type": "code",
   "execution_count": 15,
   "id": "healthy-circuit",
   "metadata": {
    "scrolled": true
   },
   "outputs": [
    {
     "data": {
      "image/png": "[encoded data removed]",
      "text/plain": [
       "<Figure size 864x360 with 3 Axes>"
      ]
     },
     "metadata": {
      "needs_background": "light"
     },
     "output_type": "display_data"
    }
   ],
   "source": [
    "### Plot Basins for Newton-Raphson, W4UL, and W4LH methods\n",
    "\n",
    "### Four solutions for plots\n",
    "solx = np.array([]);\n",
    "soly = np.array([]);\n",
    "\n",
    "x0=-5.0\n",
    "y0= 0.5\n",
    "vini = np.array([]);\n",
    "vini = np.append(vini, x0);\n",
    "vini = np.append(vini, y0);\n",
    "vans, iter, err = w4ul(vn,Fn,Fan,Jacn,vini,dtau,itermax,errmax);\n",
    "solx = np.append(solx, vans[0]);\n",
    "soly = np.append(soly, vans[1]);\n",
    "\n",
    "x0=-0.5\n",
    "y0= 5.0\n",
    "vini = np.array([]);\n",
    "vini = np.append(vini, x0);\n",
    "vini = np.append(vini, y0);\n",
    "vans, iter, err = w4ul(vn,Fn,Fan,Jacn,vini,dtau,itermax,errmax);\n",
    "solx = np.append(solx, vans[0]);\n",
    "soly = np.append(soly, vans[1]);\n",
    "\n",
    "x0=0.5\n",
    "y0=5.0\n",
    "vini = np.array([]);\n",
    "vini = np.append(vini, x0);\n",
    "vini = np.append(vini, y0);\n",
    "vans, iter, err = w4ul(vn,Fn,Fan,Jacn,vini,dtau,itermax,errmax);\n",
    "solx = np.append(solx, vans[0]);\n",
    "soly = np.append(soly, vans[1]);\n",
    "\n",
    "x0=5.0\n",
    "y0=0.5\n",
    "vini = np.array([]);\n",
    "vini = np.append(vini, x0);\n",
    "vini = np.append(vini, y0);\n",
    "vans, iter, err = w4ul(vn,Fn,Fan,Jacn,vini,dtau,itermax,errmax);\n",
    "solx = np.append(solx, vans[0]);\n",
    "soly = np.append(soly, vans[1]);\n",
    "\n",
    "### Basin Figures\n",
    "fig = plt.figure(figsize=(12,5));\n",
    "ax1 = fig.add_subplot(1,3,1);\n",
    "ax1.scatter(xd_nr,yd_nr,s=120,c=zd_nr,marker='s',cmap='Accent');\n",
    "ax1.set_xlabel(\"$x_{ini}$\");\n",
    "ax1.set_ylabel(\"$y_{ini}$\");\n",
    "ax1.set_xlim(-5,5);\n",
    "ax1.set_ylim(-5,5);\n",
    "ax1.set_aspect('equal');\n",
    "ax1.scatter(solx,soly,s=120,c='black',marker='x');\n",
    "ax1.set_title(\"NR\");\n",
    "\n",
    "ax2 = fig.add_subplot(1,3,2);\n",
    "ax2.scatter(xd_w4ul,yd_w4ul,s=120,c=zd_w4ul,marker='s',cmap='Accent');\n",
    "ax2.set_xlabel(\"$x_{ini}$\");\n",
    "ax2.set_ylabel(\"$y_{ini}$\");\n",
    "ax2.set_xlim(-5,5);\n",
    "ax2.set_ylim(-5,5);\n",
    "ax2.set_aspect('equal');\n",
    "ax2.scatter(solx,soly,s=120,c='black',marker='x');\n",
    "ax2.set_title(\"W4UL\");\n",
    "\n",
    "ax3 = fig.add_subplot(1,3,3);\n",
    "ax3.scatter(xd_w4lh,yd_w4lh,s=120,c=zd_w4lh,marker='s',cmap='Accent');\n",
    "ax3.set_xlabel(\"$x_{ini}$\");\n",
    "ax3.set_ylabel(\"$y_{ini}$\");\n",
    "ax3.set_xlim(-5,5);\n",
    "ax3.set_ylim(-5,5);\n",
    "ax3.set_aspect('equal');\n",
    "ax3.scatter(solx,soly,s=120,c='black',marker='x');\n",
    "ax3.set_title(\"W4LH\");\n",
    "\n",
    "fig.tight_layout();"
   ]
  },
  {
   "cell_type": "markdown",
   "id": "brutal-kenya",
   "metadata": {},
   "source": [
    "\n",
    "# Comments on Basin figures\n",
    "\n",
    "## How to see the figures\n",
    "* $x_{ini}$, $y_{ini}$ :: x[0], x[1]\n",
    "* Black Crosses :: Four solutions to the system of nonlinear equations \n",
    "* Color difference :: Different solution which the method finds from the initial guess\n",
    "* Blue color :: method fails to find any solution\n",
    "\n",
    "## What we can see\n",
    "* Newton-Raphson method sometimes fails to find a solution as a well-known fact, while w4 method can do it for this problem. (Blue color disappears.)\n",
    "* All methods have the local convergence. (Initial guess close to the solution reaches it.)\n",
    "* Which solution we can obtain by the W4 method strongly depends on how to decompose the Jacobian matrix, W4UL or W4LH. (Note that the Python version of W4UL decomposition is different from the FORTRAN90 version in the original paper by the permutation matrix.) "
   ]
  },
  {
   "cell_type": "code",
   "execution_count": null,
   "id": "korean-workshop",
   "metadata": {},
   "outputs": [],
   "source": []
  }
 ],
 "metadata": {
  "kernelspec": {
   "display_name": "Python 3",
   "language": "python",
   "name": "python3"
  },
  "language_info": {
   "codemirror_mode": {
    "name": "ipython",
    "version": 3
   },
   "file_extension": ".py",
   "mimetype": "text/x-python",
   "name": "python",
   "nbconvert_exporter": "python",
   "pygments_lexer": "ipython3",
   "version": "3.9.2"
  }
 },
 "nbformat": 4,
 "nbformat_minor": 5
}
