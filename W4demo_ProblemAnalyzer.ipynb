{
 "cells": [
  {
   "cell_type": "markdown",
   "id": "located-latitude",
   "metadata": {},
   "source": [
    "# Problem Analyser by W4\n",
    "\n",
    "* By this notebook, it is possible to evaluate how difficult your problem is.\n",
    "\n",
    "* You have to input your nonlinear system equations.\n",
    "\n",
    "## Caution\n",
    "\n",
    "* Python version may give a wrong analysis due to the precision issue.\n",
    "\n",
    "* There are three reasons when you fails to obtain the answer you want.\n",
    "1. (No response from the W4 method) : The dimension of your system is too large to decompose the Jacobian matrix, which in general scales as $N^3$ where $N$ is the dimension of the system similar to the Newton-Raphson method. \n",
    "2. (Getting solution which is not what you want) : There are several solutions(including non-physical solution) in your system and the current initial guess is close to other solution.\n",
    "3. (Giving Divergence or Not a Number) : Because your Jacobian matrix is ill-conditioned or singular, the iteration process will be terminated."
   ]
  },
  {
   "cell_type": "markdown",
   "id": "spread-pharmacy",
   "metadata": {},
   "source": [
    "# Package Inclusion\n",
    "* Sympy :: To define the set of nonlinear equations\n",
    "* Numpy :: For iterative solver\n",
    "* Scipy :: To use Linear solver\n",
    "* Matplotlib :: For Basin figure"
   ]
  },
  {
   "cell_type": "code",
   "execution_count": 1,
   "id": "modern-anger",
   "metadata": {},
   "outputs": [],
   "source": [
    "import sympy as sy;\n",
    "import numpy as np;\n",
    "from numpy import cos,sin,pi;\n",
    "from scipy import linalg;\n",
    "import matplotlib.pyplot as plt;"
   ]
  },
  {
   "cell_type": "markdown",
   "id": "wooden-steam",
   "metadata": {},
   "source": [
    "# Parameter Setup\n",
    "For the W4 method, we define\n",
    "* dim : dimension of system\n",
    "* dtau : $\\Delta\\tau$ for evolution\n",
    "* errmax : Criterion of error to stop iteration\n",
    "* itermax : Maximum iteration."
   ]
  },
  {
   "cell_type": "code",
   "execution_count": 2,
   "id": "enhanced-probability",
   "metadata": {},
   "outputs": [],
   "source": [
    "dim=2;"
   ]
  },
  {
   "cell_type": "code",
   "execution_count": 3,
   "id": "disabled-victorian",
   "metadata": {},
   "outputs": [],
   "source": [
    "dtau=0.5;\n",
    "errmax = pow(10,-4);\n",
    "itermax = pow(10,3);"
   ]
  },
  {
   "cell_type": "code",
   "execution_count": 4,
   "id": "equal-president",
   "metadata": {},
   "outputs": [],
   "source": [
    "### Variables\n",
    "### x[1], x[2], x[3], ... , x[dim]\n",
    "### \n",
    "x = []\n",
    "for i in range(0,dim):\n",
    "    vname = 'x[' + str(i) +']';\n",
    "    x.append(sy.symbols(vname));"
   ]
  },
  {
   "cell_type": "markdown",
   "id": "addressed-cornell",
   "metadata": {},
   "source": [
    "# Definition of Source in the Sympy style\n",
    "* **F**(**x**) : System of nonlinear equations\n",
    "* |**F**(**x**)| : Absolute components\n",
    "* J : Jacobian matrix $\\partial$ **F** / $\\partial$ **x**"
   ]
  },
  {
   "cell_type": "code",
   "execution_count": 5,
   "id": "explicit-psychology",
   "metadata": {},
   "outputs": [],
   "source": [
    "### Source\n",
    "### f[0], f[1], f[2], ... , f[dim-1]\n",
    "### So-called Rosenbrock Problem \n",
    "###   in the standard test problem for optimization problem\n",
    "f = [];\n",
    "f.append( (10*(x[1] -x[0]**2)) );\n",
    "f.append( (1 -x[0]) );\n"
   ]
  },
  {
   "cell_type": "code",
   "execution_count": 6,
   "id": "going-armenia",
   "metadata": {},
   "outputs": [],
   "source": [
    "# input source\n",
    "def calc_source(x,f):\n",
    "\n",
    "### Summation of absolute values of all terms in each equation\n",
    "###  to compare the error with the typical value of each equation\n",
    "    fa = [];\n",
    "    for j in range(dim):\n",
    "        tmp = 0;\n",
    "        for i in range(len(f[j].args)):\n",
    "            tmp = tmp + abs(f[j].args[i]);\n",
    "        fa.append(tmp);        \n",
    "\n",
    "### Definition of variables, sources, absolute sources(x, F, |F|) as vector\n",
    "    v = sy.Matrix([x]).transpose();\n",
    "    F = sy.Matrix([f]).transpose();\n",
    "    Fa = sy.Matrix([fa]).transpose();\n",
    "    \n",
    "### Analytic calculation of Jacobian(dim x dim Matrix)\n",
    "    J = sy.Matrix();\n",
    "    for i in range(dim):\n",
    "        J = J.col_insert(i,F.diff(x[i]));    \n",
    "\n",
    "### From Sympy to Numpy\n",
    "    arg = v.transpose();\n",
    "    vn = sy.lambdify(arg, v, \"numpy\")\n",
    "    Fn = sy.lambdify(arg, F, \"numpy\")\n",
    "    Fan = sy.lambdify(arg, Fa, \"numpy\")\n",
    "    Jacn = sy.lambdify(arg, J, \"numpy\")        \n",
    "        \n",
    "    return vn,Fn,Fan,Jacn;"
   ]
  },
  {
   "cell_type": "code",
   "execution_count": 7,
   "id": "young-arthritis",
   "metadata": {},
   "outputs": [],
   "source": [
    "vn, Fn, Fan, Jacn = calc_source(x,f);"
   ]
  },
  {
   "cell_type": "markdown",
   "id": "voluntary-scotland",
   "metadata": {},
   "source": [
    "# Definition :: W4LH method"
   ]
  },
  {
   "cell_type": "code",
   "execution_count": 8,
   "id": "becoming-vampire",
   "metadata": {},
   "outputs": [],
   "source": [
    "### Analysis by the W4 method with LH decomposition\n",
    "def w4analysis(v,F,Fa,J,ini,dt,itermax,errmax):\n",
    "    \n",
    "### Initialization for x and p as v0 and p0\n",
    "    p0 = np.zeros(dim);\n",
    "    v0 = v(*ini).transpose()[0];\n",
    "\n",
    "    evot = [];\n",
    "    evot = np.append(evot,0);\n",
    "    evox = np.array([v0]).reshape(1,dim);\n",
    "    evop = np.array([p0]).reshape(1,dim);\n",
    "    evolam = [];\n",
    "    evolam = np.append(evolam,1.0);\n",
    "\n",
    "    \n",
    "### Main Iteration Loop\n",
    "    for i in range(itermax):\n",
    "        J0=J(*v0);\n",
    "        F0=F(*v0).transpose()[0].transpose();\n",
    "        Fa0=Fa(*v0).transpose()[0].transpose();\n",
    "\n",
    "### Criterion to stop the iteration\n",
    "### Evaluation of Source F\n",
    "        err = 0.0;\n",
    "        for k in range(dim):\n",
    "            err = max(err,abs(F0[k]/Fa0[k]));\n",
    "            \n",
    "        if err < errmax:\n",
    "            break;\n",
    "\n",
    "### Decomposition of Jacobian into L and H\n",
    "        Q, R = linalg.qr(J0.transpose());\n",
    "        srcp = -2*p0 -linalg.solve(R.transpose(),F0);\n",
    "        srcx = Q.transpose().dot(p0);\n",
    "        v0 = v0 +srcx*dt;\n",
    "        p0 = p0 +srcp*dt;\n",
    "        evot = np.append(evot,i);\n",
    "        evox = np.append(evox,np.array([v0]),axis=0);\n",
    "        evop = np.append(evop,np.array([p0]),axis=0);\n",
    "        lmin=abs(R[0][0]);\n",
    "        lmax=abs(R[0][0]);\n",
    "        for d in range(dim):\n",
    "            if lmin > abs(R[d][d]):\n",
    "                lmin = abs(R[d][d]);\n",
    "            if lmax < abs(R[d][d]):\n",
    "                lmax = abs(R[d][d]);\n",
    "                \n",
    "        evolam = np.append(evolam,lmax/lmin);\n",
    "\n",
    "    return v0, i, err, evolam, evot, evox, evop"
   ]
  },
  {
   "cell_type": "code",
   "execution_count": 9,
   "id": "streaming-chaos",
   "metadata": {},
   "outputs": [
    {
     "name": "stdout",
     "output_type": "stream",
     "text": [
      "Dimension :  2\n",
      "Initial Condition number :  67.6\n",
      "Iteration :  31 , error :  6.868207510340494e-05\n",
      "< Solved. >\n"
     ]
    }
   ],
   "source": [
    "### Initial guess\n",
    "vini = np.array([]);\n",
    "vini = np.append(vini, -1.2);\n",
    "vini = np.append(vini,  1.0);\n",
    "\n",
    "### Nonlinear Solver by the W4 method\n",
    "vans, iter, err, lam, t, x, p = w4analysis(vn,Fn,Fan,Jacn,vini,dtau,itermax,errmax);\n",
    "\n",
    "### Basic information\n",
    "print(\"Dimension : \",dim);\n",
    "print(\"Initial Condition number : \",lam[1]);\n",
    "print(\"Iteration : \",iter,\", error : \", err);\n",
    "if iter < itermax-1:\n",
    "    print(\"< Solved. >\");\n",
    "else:\n",
    "    print(\"< Failed. >\");"
   ]
  },
  {
   "cell_type": "code",
   "execution_count": 10,
   "id": "tight-thread",
   "metadata": {},
   "outputs": [],
   "source": [
    "### Saving solution during the W4 iteration for figures\n",
    "solx1 = [];\n",
    "solx2 = [];\n",
    "solp1 = [];\n",
    "solp2 = [];\n",
    "for i in range(iter+1):\n",
    "    solx1 = np.append(solx1,x[i][0]);\n",
    "    solx2 = np.append(solx2,x[i][1]);\n",
    "    solp1 = np.append(solp1,p[i][0]);\n",
    "    solp2 = np.append(solp2,p[i][1]);"
   ]
  },
  {
   "cell_type": "code",
   "execution_count": 11,
   "id": "healthy-circuit",
   "metadata": {
    "scrolled": true
   },
   "outputs": [
    {
     "data": {
      "image/png": "[encoded data removed]",
      "text/plain": [
       "<Figure size 864x360 with 4 Axes>"
      ]
     },
     "metadata": {
      "needs_background": "light"
     },
     "output_type": "display_data"
    }
   ],
   "source": [
    "### Figures\n",
    "fig = plt.figure(figsize=(12,5));\n",
    "ax1 = fig.add_subplot(2,2,1);\n",
    "ax1.plot(t,solx1,marker='o');\n",
    "ax1.set_xlabel(\"$Iteration$\");\n",
    "ax1.set_ylabel(\"$x_{0}$\");\n",
    "\n",
    "ax2 = fig.add_subplot(2,2,2);\n",
    "ax2.plot(t,solx2,marker='s');\n",
    "ax2.set_xlabel(\"$Iteration$\");\n",
    "ax2.set_ylabel(\"$x_{1}$\");\n",
    "\n",
    "ax3 = fig.add_subplot(2,2,3);\n",
    "ax3.plot(t,lam,marker='d');\n",
    "ax3.set_xlabel(\"$Iteration$\");\n",
    "ax3.set_ylabel(\"Condition Number $\\kappa$\");\n",
    "\n",
    "ax4 = fig.add_subplot(2,2,4);\n",
    "ax4.plot(t,solp1,marker='o');\n",
    "ax4.plot(t,solp2,marker='x');\n",
    "ax4.set_xlabel(\"$Iteration$\");\n",
    "ax4.set_ylabel(\"Momentum $p$\");\n",
    "\n",
    "fig.tight_layout();"
   ]
  },
  {
   "cell_type": "markdown",
   "id": "brutal-kenya",
   "metadata": {},
   "source": [
    "# Comments on Problem Analyzer by W4\n",
    "\n",
    "## How to see the first basic outputs\n",
    "* Dimension and initial condition number calculated from the Jacobian matrix are shown.\n",
    "* Next, the iteration number and the error after the W4 loop are presented.\n",
    "* The last comment tells us whether the problem was solved from the initial guess.\n",
    "\n",
    "\n",
    "## How to see the figures\n",
    "* Left-Upper & Right-Upper figures : The variables are shown as the W4 iteration goes.\n",
    "* Left-Bottom figure : The condition number as a function of iteration step.\n",
    "* Right-Bottom figure : The W4 momenta are given as a function of iteration step.\n",
    "\n",
    "\n",
    "## What we can see\n",
    "* Thanks to the damping effect in the evolution equation in the W4 method, the variables approach the solution.  \n",
    "* If the condition number is quite high, the Python version may not give the correct answer due to the round-off error or the matrix decomposition.  (Note that the matrix decomposition in the Python version of the W4 method is different from the FORTRAN90 version in the original paper.) "
   ]
  },
  {
   "cell_type": "code",
   "execution_count": null,
   "id": "superb-civilization",
   "metadata": {},
   "outputs": [],
   "source": []
  }
 ],
 "metadata": {
  "kernelspec": {
   "display_name": "Python 3",
   "language": "python",
   "name": "python3"
  },
  "language_info": {
   "codemirror_mode": {
    "name": "ipython",
    "version": 3
   },
   "file_extension": ".py",
   "mimetype": "text/x-python",
   "name": "python",
   "nbconvert_exporter": "python",
   "pygments_lexer": "ipython3",
   "version": "3.9.2"
  }
 },
 "nbformat": 4,
 "nbformat_minor": 5
}
