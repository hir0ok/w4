{
 "cells": [
  {
   "cell_type": "markdown",
   "id": "located-latitude",
   "metadata": {},
   "source": [
    "# W4SV demonstration\n",
    "\n",
    "* Solving two-dimensional problems in Standard Test Functions by the W4 method with the SV decomposition"
   ]
  },
  {
   "cell_type": "markdown",
   "id": "spread-pharmacy",
   "metadata": {},
   "source": [
    "# Package Inclusion\n",
    "* Sympy :: To define the set of nonlinear equations\n",
    "* Numpy :: For iterative solver\n",
    "* Scipy :: To use Linear solver\n",
    "* Matplotlib :: For figure"
   ]
  },
  {
   "cell_type": "code",
   "execution_count": 1,
   "id": "modern-anger",
   "metadata": {},
   "outputs": [],
   "source": [
    "import sympy as sy;\n",
    "import numpy as np;\n",
    "from sympy import exp,cos;\n",
    "#from numpy import cos,sin,pi;\n",
    "from scipy import linalg;\n",
    "import matplotlib.pyplot as plt;"
   ]
  },
  {
   "cell_type": "markdown",
   "id": "wooden-steam",
   "metadata": {},
   "source": [
    "# Parameter Setup\n",
    "For the W4 method, we define\n",
    "* dim : dimension of system  (It determines the resolution)\n",
    "* dtau : $\\Delta\\tau$ for the W4 evolution\n",
    "* errmax : Criterion of error to stop iteration\n",
    "* itermax : Maximum iteration."
   ]
  },
  {
   "cell_type": "code",
   "execution_count": 2,
   "id": "enhanced-probability",
   "metadata": {},
   "outputs": [],
   "source": [
    "dim=2;"
   ]
  },
  {
   "cell_type": "code",
   "execution_count": null,
   "id": "disabled-victorian",
   "metadata": {},
   "outputs": [],
   "source": [
    "dtau=0.5;\n",
    "errmax = pow(10,-4);\n",
    "itermax = pow(10,6);"
   ]
  },
  {
   "cell_type": "code",
   "execution_count": 4,
   "id": "equal-president",
   "metadata": {},
   "outputs": [],
   "source": [
    "### Variables\n",
    "### x[1], x[2], x[3], ... , x[dim]\n",
    "### \n",
    "x = []\n",
    "for i in range(0,dim):\n",
    "    vname = 'x[' + str(i) +']';\n",
    "    x.append(sy.symbols(vname));"
   ]
  },
  {
   "cell_type": "markdown",
   "id": "addressed-cornell",
   "metadata": {},
   "source": [
    "# Definition of Source in the Sympy style\n",
    "* **F**(**x**) : System of nonlinear equations\n",
    "* |**F**(**x**)| : Absolute components\n",
    "* J : Jacobian matrix $\\partial$ **F** / $\\partial$ **x**"
   ]
  },
  {
   "cell_type": "code",
   "execution_count": 5,
   "id": "lesser-choice",
   "metadata": {},
   "outputs": [],
   "source": [
    "f_rosenbrock = [];\n",
    "f_rosenbrock.append( 10*(x[1]-x[0]**2) );\n",
    "f_rosenbrock.append( 1 - x[0] );\n",
    "\n",
    "f_freudenstein = [];\n",
    "f_freudenstein.append( -13 +x[0] +((5-x[1])*x[1]-2)*x[1] );\n",
    "f_freudenstein.append( -29 +x[0] +((x[1]+1)*x[1]-14)*x[1] );\n",
    "\n",
    "f_powell = [];\n",
    "f_powell.append( pow(10,4)*x[0]*x[1] -1 );\n",
    "f_powell.append( exp(-x[0]) +exp(-x[1]) -1.0001 );\n",
    "\n",
    "f_brown = [];\n",
    "f_brown.append( x[0]*x[1]**2 -2*x[1] +x[0] -pow(10,6) );\n",
    "f_brown.append( x[0]**2*x[1] -2*x[0] +x[1] -2*pow(10,-6) );\n",
    "\n",
    "f_beale = [];\n",
    "f_beale.append( 1.5 -x[0]*(1-x[1]) );\n",
    "f_beale.append( 2.25 -x[0]*(1-x[1]**2) );\n",
    "\n",
    "f_hueso = [];\n",
    "f_hueso.append( (x[0]-1)**2*(x[0]-x[1]) );\n",
    "f_hueso.append( (x[1]-2)**5*cos(2*x[0]/x[1]) );\n",
    "\n",
    "f_fujisawa = [];\n",
    "f_fujisawa.append( x[0]**2 +x[1]**2 -4 );\n",
    "f_fujisawa.append( x[0]**2*x[1] -1 );\n"
   ]
  },
  {
   "cell_type": "code",
   "execution_count": 6,
   "id": "going-armenia",
   "metadata": {},
   "outputs": [],
   "source": [
    "# input source\n",
    "def calc_source(x,f):\n",
    "\n",
    "### Summation of absolute values of all terms in each equation\n",
    "###  to compare the error with the typical value of each equation\n",
    "    fa = [];\n",
    "    for j in range(dim):\n",
    "        tmp = 0;\n",
    "        for i in range(len(f[j].args)):\n",
    "            tmp = tmp + abs(f[j].args[i]);\n",
    "        fa.append(tmp);        \n",
    "\n",
    "### Definition of variables, sources, absolute sources(x, F, |F|) as vector\n",
    "    v = sy.Matrix([x]).transpose();\n",
    "    F = sy.Matrix([f]).transpose();\n",
    "    Fa = sy.Matrix([fa]).transpose();\n",
    "    \n",
    "### Analytic calculation of Jacobian(dim x dim Matrix)\n",
    "    J = sy.Matrix();\n",
    "    for i in range(dim):\n",
    "        J = J.col_insert(i,F.diff(x[i]));    \n",
    "\n",
    "### From Sympy to Numpy\n",
    "    arg = v.transpose();\n",
    "    vn = sy.lambdify(arg, v, \"numpy\")\n",
    "    Fn = sy.lambdify(arg, F, \"numpy\")\n",
    "    Fan = sy.lambdify(arg, Fa, \"numpy\")\n",
    "    Jacn = sy.lambdify(arg, J, \"numpy\")        \n",
    "        \n",
    "    return vn,Fn,Fan,Jacn;"
   ]
  },
  {
   "cell_type": "markdown",
   "id": "noble-melbourne",
   "metadata": {},
   "source": [
    "# Transformation from Sympy style to Numpy style"
   ]
  },
  {
   "cell_type": "code",
   "execution_count": 7,
   "id": "young-arthritis",
   "metadata": {},
   "outputs": [],
   "source": [
    "#vn, Fn, Fan, Jacn = calc_source(x,f);\n",
    "vn_rosenbrock, Fn_rosenbrock, Fan_rosenbrock, Jacn_rosenbrock = calc_source(x,f_rosenbrock);\n",
    "vn_freudenstein, Fn_freudenstein, Fan_freudenstein, Jacn_freudenstein = calc_source(x,f_freudenstein);\n",
    "vn_powell, Fn_powell, Fan_powell, Jacn_powell = calc_source(x,f_powell);\n",
    "vn_brown, Fn_brown, Fan_brown, Jacn_brown = calc_source(x,f_brown);\n",
    "vn_beale, Fn_beale, Fan_beale, Jacn_beale = calc_source(x,f_beale);\n",
    "vn_hueso, Fn_hueso, Fan_hueso, Jacn_hueso = calc_source(x,f_hueso);\n",
    "vn_fujisawa, Fn_fujisawa, Fan_fujisawa, Jacn_fujisawa = calc_source(x,f_fujisawa);"
   ]
  },
  {
   "cell_type": "markdown",
   "id": "voluntary-scotland",
   "metadata": {},
   "source": [
    "# Definition :: W4SV method"
   ]
  },
  {
   "cell_type": "code",
   "execution_count": 8,
   "id": "hazardous-train",
   "metadata": {},
   "outputs": [],
   "source": [
    "def w4sv(v,F,Fa,J,ini,dt,itermax,errmax):\n",
    "    \n",
    "    p0 = np.zeros(dim);\n",
    "    v0 = v(*ini).transpose()[0];\n",
    "\n",
    "    for i in range(itermax):\n",
    "        J0=J(*v0);\n",
    "        F0=F(*v0).transpose()[0].transpose();\n",
    "        Fa0=Fa(*v0).transpose()[0].transpose();\n",
    "#        print(v0);#,print(p0);\n",
    "        err = 0.0;\n",
    "        for k in range(dim):\n",
    "            err = max(err,abs(F0[k]/Fa0[k]));\n",
    "            \n",
    "        if err < errmax:\n",
    "            break;\n",
    "\n",
    "        U, s, V = np.linalg.svd(J0);\n",
    "        si = np.array([]);\n",
    "        for j in range(dim):\n",
    "            if s[j] > pow(10,-6):\n",
    "                si = np.append(si,1.0/s[j]);\n",
    "            else:\n",
    "                si = np.append(si,1.0);\n",
    "        \n",
    "        S = np.diag(si);\n",
    "\n",
    "        srcx = V.transpose().dot(p0);\n",
    "        tmp  = U.transpose().dot(F0);\n",
    "        srcp = -2*p0 -S.dot(tmp);\n",
    "\n",
    "        v0 = v0 +srcx*dt;\n",
    "        p0 = p0 +srcp*dt;\n",
    "        \n",
    "    return v0, i, err"
   ]
  },
  {
   "cell_type": "markdown",
   "id": "shaped-wells",
   "metadata": {},
   "source": [
    "# Initial conditions for test problems"
   ]
  },
  {
   "cell_type": "code",
   "execution_count": 9,
   "id": "absent-congo",
   "metadata": {},
   "outputs": [],
   "source": [
    "vini_rosenbrock = np.array([]);\n",
    "vini_rosenbrock = np.append(vini_rosenbrock, 1.2);\n",
    "vini_rosenbrock = np.append(vini_rosenbrock, 1.0);\n",
    "\n",
    "vini_freudenstein = np.array([]);\n",
    "vini_freudenstein = np.append(vini_freudenstein, 6.0);\n",
    "vini_freudenstein = np.append(vini_freudenstein, 3.0);\n",
    "\n",
    "vini_powell1 = np.array([]);\n",
    "vini_powell1 = np.append(vini_powell1, 0.0);\n",
    "vini_powell1 = np.append(vini_powell1, 1.0);\n",
    "\n",
    "vini_powell2 = np.array([]);\n",
    "vini_powell2 = np.append(vini_powell2, 1.0);\n",
    "vini_powell2 = np.append(vini_powell2, 1.0);\n",
    "\n",
    "\n",
    "vini_brown = np.array([]);\n",
    "vini_brown = np.append(vini_brown, 1.0);\n",
    "vini_brown = np.append(vini_brown, 1.0);\n",
    "\n",
    "vini_beale1 = np.array([]);\n",
    "vini_beale1 = np.append(vini_beale1, 1.0);\n",
    "vini_beale1 = np.append(vini_beale1, 1.0);\n",
    "\n",
    "vini_beale2 = np.array([]);\n",
    "vini_beale2 = np.append(vini_beale2, 0.0);\n",
    "vini_beale2 = np.append(vini_beale2, 2.0);\n",
    "\n",
    "\n",
    "vini_hueso = np.array([]);\n",
    "vini_hueso = np.append(vini_hueso, 1.5);\n",
    "vini_hueso = np.append(vini_hueso, 2.5);\n",
    "\n",
    "vini_fujisawa1 = np.array([]);\n",
    "vini_fujisawa1 = np.append(vini_fujisawa1, 0.0);\n",
    "vini_fujisawa1 = np.append(vini_fujisawa1, 1.0);\n",
    "\n",
    "vini_fujisawa2 = np.array([]);\n",
    "vini_fujisawa2 = np.append(vini_fujisawa2, 0.0);\n",
    "vini_fujisawa2 = np.append(vini_fujisawa2, -1.0);"
   ]
  },
  {
   "cell_type": "markdown",
   "id": "extended-clark",
   "metadata": {},
   "source": [
    "# Demonstrations\n",
    "\n",
    "* Rosenbrock's problem\n",
    "* Freudenstein's problem\n",
    "* Powell's problem (Two initial conditions)\n",
    "* Brown's problem\n",
    "* Beale's problem (Two initial conditions)\n",
    "* Hueso's problem\n",
    "* Fujisawa's problem (Two initial conditions)\n",
    "\n",
    "## Outputs :\n",
    "### ( Solution x and y, Number of iterations to obtain the solution, Convergence Error )"
   ]
  },
  {
   "cell_type": "code",
   "execution_count": 10,
   "id": "pediatric-geology",
   "metadata": {},
   "outputs": [
    {
     "data": {
      "text/plain": [
       "(array([1.00000121, 0.99998785]), 5, 7.282917473872244e-06)"
      ]
     },
     "execution_count": 10,
     "metadata": {},
     "output_type": "execute_result"
    }
   ],
   "source": [
    "vans_rosenbrock, iter, err = w4sv(vn_rosenbrock,Fn_rosenbrock,Fan_rosenbrock,Jacn_rosenbrock,vini_rosenbrock,dtau,itermax,errmax);\n",
    "vans_rosenbrock, iter, err"
   ]
  },
  {
   "cell_type": "code",
   "execution_count": 11,
   "id": "precious-overview",
   "metadata": {},
   "outputs": [
    {
     "data": {
      "text/plain": [
       "(array([4.99937056, 4.00007566]), 9, 5.331228651579042e-05)"
      ]
     },
     "execution_count": 11,
     "metadata": {},
     "output_type": "execute_result"
    }
   ],
   "source": [
    "vans_freudenstein, iter, err = w4sv(vn_freudenstein,Fn_freudenstein,Fan_freudenstein,Jacn_freudenstein,vini_freudenstein,dtau,itermax,errmax);\n",
    "vans_freudenstein, iter, err"
   ]
  },
  {
   "cell_type": "code",
   "execution_count": 12,
   "id": "catholic-volleyball",
   "metadata": {},
   "outputs": [
    {
     "data": {
      "text/plain": [
       "(array([1.09914736e-05, 9.09651458e+00]), 21, 7.950679625603148e-05)"
      ]
     },
     "execution_count": 12,
     "metadata": {},
     "output_type": "execute_result"
    }
   ],
   "source": [
    "vans_powell1, iter, err = w4sv(vn_powell,Fn_powell,Fan_powell,Jacn_powell,vini_powell1,dtau,itermax,errmax);\n",
    "vans_powell1, iter, err"
   ]
  },
  {
   "cell_type": "code",
   "execution_count": 13,
   "id": "extraordinary-trail",
   "metadata": {},
   "outputs": [
    {
     "data": {
      "text/plain": [
       "(array([1.09880148e-05, 9.10025414e+00]), 38, 3.1364198873156685e-05)"
      ]
     },
     "execution_count": 13,
     "metadata": {},
     "output_type": "execute_result"
    }
   ],
   "source": [
    "vans_powell2, iter, err = w4sv(vn_powell,Fn_powell,Fan_powell,Jacn_powell,vini_powell2,dtau,itermax,errmax);\n",
    "vans_powell2, iter, err"
   ]
  },
  {
   "cell_type": "code",
   "execution_count": 14,
   "id": "invisible-withdrawal",
   "metadata": {},
   "outputs": [
    {
     "name": "stderr",
     "output_type": "stream",
     "text": [
      "<lambdifygenerated-14>:2: RuntimeWarning: overflow encountered in double_scalars\n",
      "  return (array([[_Dummy_48**2*Dummy_49 - 2*_Dummy_48 + Dummy_49 - 1000000], [_Dummy_48*Dummy_49**2 + _Dummy_48 - 2*Dummy_49 - 2.0e-6]]))\n",
      "<lambdifygenerated-15>:2: RuntimeWarning: overflow encountered in double_scalars\n",
      "  return (array([[2*abs(_Dummy_50) + abs(Dummy_51) + abs(_Dummy_50**2*Dummy_51) + 1000000], [abs(_Dummy_50) + 2*abs(Dummy_51) + abs(_Dummy_50*Dummy_51**2) + 2.0e-6]]))\n",
      "<ipython-input-8-cbfc08ef5034>:13: RuntimeWarning: invalid value encountered in double_scalars\n",
      "  err = max(err,abs(F0[k]/Fa0[k]));\n"
     ]
    },
    {
     "data": {
      "text/plain": [
       "(array([nan, nan]), 3134, 0.0)"
      ]
     },
     "execution_count": 14,
     "metadata": {},
     "output_type": "execute_result"
    }
   ],
   "source": [
    "vans_brown, iter, err = w4sv(vn_brown,Fn_brown,Fan_brown,Jacn_brown,vini_brown,dtau,itermax,errmax);\n",
    "vans_brown, iter, err"
   ]
  },
  {
   "cell_type": "code",
   "execution_count": 16,
   "id": "generic-grenada",
   "metadata": {},
   "outputs": [
    {
     "data": {
      "text/plain": [
       "(array([-4.11191238e-10,  7.39726692e+04]), 999999, 0.9999594458930725)"
      ]
     },
     "execution_count": 16,
     "metadata": {},
     "output_type": "execute_result"
    }
   ],
   "source": [
    "vans_beale1, iter, err = w4sv(vn_beale,Fn_beale,Fan_beale,Jacn_beale,vini_beale1,dtau,itermax,errmax);\n",
    "vans_beale1, iter, err"
   ]
  },
  {
   "cell_type": "code",
   "execution_count": 17,
   "id": "changing-elevation",
   "metadata": {},
   "outputs": [
    {
     "data": {
      "text/plain": [
       "(array([2.99999624, 0.50000148]), 14, 2.103438534001516e-06)"
      ]
     },
     "execution_count": 17,
     "metadata": {},
     "output_type": "execute_result"
    }
   ],
   "source": [
    "vans_beale2, iter, err = w4sv(vn_beale,Fn_beale,Fan_beale,Jacn_beale,vini_beale2,dtau,itermax,errmax);\n",
    "vans_beale2, iter, err"
   ]
  },
  {
   "cell_type": "code",
   "execution_count": 18,
   "id": "fantastic-lincoln",
   "metadata": {},
   "outputs": [
    {
     "data": {
      "text/plain": [
       "(array([1.0076128, 2.1176476]), 12, 5.795165011729086e-05)"
      ]
     },
     "execution_count": 18,
     "metadata": {},
     "output_type": "execute_result"
    }
   ],
   "source": [
    "vans_hueso, iter, err = w4sv(vn_hueso,Fn_hueso,Fan_hueso,Jacn_hueso,vini_hueso,dtau,itermax,errmax);\n",
    "vans_hueso, iter, err"
   ]
  },
  {
   "cell_type": "code",
   "execution_count": 19,
   "id": "female-logging",
   "metadata": {},
   "outputs": [
    {
     "data": {
      "text/plain": [
       "(array([-0.73309509,  1.86080507]), 9, 2.4756209754266075e-05)"
      ]
     },
     "execution_count": 19,
     "metadata": {},
     "output_type": "execute_result"
    }
   ],
   "source": [
    "vans_fujisawa1, iter, err = w4sv(vn_fujisawa,Fn_fujisawa,Fan_fujisawa,Jacn_fujisawa,vini_fujisawa1,dtau,itermax,errmax);\n",
    "vans_fujisawa1, iter, err"
   ]
  },
  {
   "cell_type": "code",
   "execution_count": 21,
   "id": "supposed-campaign",
   "metadata": {},
   "outputs": [
    {
     "ename": "KeyboardInterrupt",
     "evalue": "",
     "output_type": "error",
     "traceback": [
      "\u001b[0;31m---------------------------------------------------------------------\u001b[0m",
      "\u001b[0;31mKeyboardInterrupt\u001b[0m                   Traceback (most recent call last)",
      "\u001b[0;32m<ipython-input-21-0d0af7398f61>\u001b[0m in \u001b[0;36m<module>\u001b[0;34m\u001b[0m\n\u001b[1;32m      1\u001b[0m \u001b[0mdtau\u001b[0m\u001b[0;34m=\u001b[0m\u001b[0;36m0.1\u001b[0m\u001b[0;34m\u001b[0m\u001b[0;34m\u001b[0m\u001b[0m\n\u001b[0;32m----> 2\u001b[0;31m \u001b[0mvans_fujisawa2\u001b[0m\u001b[0;34m,\u001b[0m \u001b[0miter\u001b[0m\u001b[0;34m,\u001b[0m \u001b[0merr\u001b[0m \u001b[0;34m=\u001b[0m \u001b[0mw4sv\u001b[0m\u001b[0;34m(\u001b[0m\u001b[0mvn_fujisawa\u001b[0m\u001b[0;34m,\u001b[0m\u001b[0mFn_fujisawa\u001b[0m\u001b[0;34m,\u001b[0m\u001b[0mFan_fujisawa\u001b[0m\u001b[0;34m,\u001b[0m\u001b[0mJacn_fujisawa\u001b[0m\u001b[0;34m,\u001b[0m\u001b[0mvini_fujisawa2\u001b[0m\u001b[0;34m,\u001b[0m\u001b[0mdtau\u001b[0m\u001b[0;34m,\u001b[0m\u001b[0mitermax\u001b[0m\u001b[0;34m,\u001b[0m\u001b[0merrmax\u001b[0m\u001b[0;34m)\u001b[0m\u001b[0;34m;\u001b[0m\u001b[0;34m\u001b[0m\u001b[0;34m\u001b[0m\u001b[0m\n\u001b[0m\u001b[1;32m      3\u001b[0m \u001b[0mvans_fujisawa2\u001b[0m\u001b[0;34m,\u001b[0m \u001b[0miter\u001b[0m\u001b[0;34m,\u001b[0m \u001b[0merr\u001b[0m\u001b[0;34m\u001b[0m\u001b[0;34m\u001b[0m\u001b[0m\n",
      "\u001b[0;32m<ipython-input-8-cbfc08ef5034>\u001b[0m in \u001b[0;36mw4sv\u001b[0;34m(v, F, Fa, J, ini, dt, itermax, errmax)\u001b[0m\n\u001b[1;32m     26\u001b[0m         \u001b[0mS\u001b[0m \u001b[0;34m=\u001b[0m \u001b[0mnp\u001b[0m\u001b[0;34m.\u001b[0m\u001b[0mdiag\u001b[0m\u001b[0;34m(\u001b[0m\u001b[0msi\u001b[0m\u001b[0;34m)\u001b[0m\u001b[0;34m;\u001b[0m\u001b[0;34m\u001b[0m\u001b[0;34m\u001b[0m\u001b[0m\n\u001b[1;32m     27\u001b[0m \u001b[0;34m\u001b[0m\u001b[0m\n\u001b[0;32m---> 28\u001b[0;31m         \u001b[0msrcx\u001b[0m \u001b[0;34m=\u001b[0m \u001b[0mV\u001b[0m\u001b[0;34m.\u001b[0m\u001b[0mtranspose\u001b[0m\u001b[0;34m(\u001b[0m\u001b[0;34m)\u001b[0m\u001b[0;34m.\u001b[0m\u001b[0mdot\u001b[0m\u001b[0;34m(\u001b[0m\u001b[0mp0\u001b[0m\u001b[0;34m)\u001b[0m\u001b[0;34m;\u001b[0m\u001b[0;34m\u001b[0m\u001b[0;34m\u001b[0m\u001b[0m\n\u001b[0m\u001b[1;32m     29\u001b[0m         \u001b[0mtmp\u001b[0m  \u001b[0;34m=\u001b[0m \u001b[0mU\u001b[0m\u001b[0;34m.\u001b[0m\u001b[0mtranspose\u001b[0m\u001b[0;34m(\u001b[0m\u001b[0;34m)\u001b[0m\u001b[0;34m.\u001b[0m\u001b[0mdot\u001b[0m\u001b[0;34m(\u001b[0m\u001b[0mF0\u001b[0m\u001b[0;34m)\u001b[0m\u001b[0;34m;\u001b[0m\u001b[0;34m\u001b[0m\u001b[0;34m\u001b[0m\u001b[0m\n\u001b[1;32m     30\u001b[0m         \u001b[0msrcp\u001b[0m \u001b[0;34m=\u001b[0m \u001b[0;34m-\u001b[0m\u001b[0;36m2\u001b[0m\u001b[0;34m*\u001b[0m\u001b[0mp0\u001b[0m \u001b[0;34m-\u001b[0m\u001b[0mS\u001b[0m\u001b[0;34m.\u001b[0m\u001b[0mdot\u001b[0m\u001b[0;34m(\u001b[0m\u001b[0mtmp\u001b[0m\u001b[0;34m)\u001b[0m\u001b[0;34m;\u001b[0m\u001b[0;34m\u001b[0m\u001b[0;34m\u001b[0m\u001b[0m\n",
      "\u001b[0;31mKeyboardInterrupt\u001b[0m: "
     ]
    }
   ],
   "source": [
    "dtau=0.1\n",
    "vans_fujisawa2, iter, err = w4sv(vn_fujisawa,Fn_fujisawa,Fan_fujisawa,Jacn_fujisawa,vini_fujisawa2,dtau,itermax,errmax);\n",
    "vans_fujisawa2, iter, err"
   ]
  },
  {
   "cell_type": "code",
   "execution_count": null,
   "id": "superb-civilization",
   "metadata": {},
   "outputs": [],
   "source": []
  },
  {
   "cell_type": "code",
   "execution_count": null,
   "id": "patent-listing",
   "metadata": {},
   "outputs": [],
   "source": []
  },
  {
   "cell_type": "code",
   "execution_count": null,
   "id": "round-yorkshire",
   "metadata": {},
   "outputs": [],
   "source": []
  }
 ],
 "metadata": {
  "kernelspec": {
   "display_name": "Python 3",
   "language": "python",
   "name": "python3"
  },
  "language_info": {
   "codemirror_mode": {
    "name": "ipython",
    "version": 3
   },
   "file_extension": ".py",
   "mimetype": "text/x-python",
   "name": "python",
   "nbconvert_exporter": "python",
   "pygments_lexer": "ipython3",
   "version": "3.9.2"
  }
 },
 "nbformat": 4,
 "nbformat_minor": 5
}
