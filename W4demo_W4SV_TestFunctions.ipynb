{
 "cells": [
  {
   "cell_type": "markdown",
   "id": "located-latitude",
   "metadata": {},
   "source": [
    "# W4SV demonstration\n",
    "\n",
    "* Solving two-dimensional problems in Standard Test Functions by the W4 method with the SV decomposition"
   ]
  },
  {
   "cell_type": "markdown",
   "id": "spread-pharmacy",
   "metadata": {},
   "source": [
    "# Package Inclusion\n",
    "* Sympy :: To define the set of nonlinear equations\n",
    "* Numpy :: For iterative solver\n",
    "* Scipy :: To use Linear solver\n",
    "* Matplotlib :: For figure"
   ]
  },
  {
   "cell_type": "code",
   "execution_count": 1,
   "id": "modern-anger",
   "metadata": {},
   "outputs": [],
   "source": [
    "import sympy as sy;\n",
    "import numpy as np;\n",
    "from sympy import exp,cos;\n",
    "#from numpy import cos,sin,pi;\n",
    "from scipy import linalg;\n",
    "import matplotlib.pyplot as plt;"
   ]
  },
  {
   "cell_type": "markdown",
   "id": "wooden-steam",
   "metadata": {},
   "source": [
    "# Parameter Setup\n",
    "For the W4 method, we define\n",
    "* dim : dimension of system  (It determines the resolution)\n",
    "* dtau : $\\Delta\\tau$ for the W4 evolution\n",
    "* errmax : Criterion of error to stop iteration\n",
    "* itermax : Maximum iteration."
   ]
  },
  {
   "cell_type": "code",
   "execution_count": 2,
   "id": "enhanced-probability",
   "metadata": {},
   "outputs": [],
   "source": [
    "dim=2;"
   ]
  },
  {
   "cell_type": "code",
   "execution_count": 3,
   "id": "disabled-victorian",
   "metadata": {},
   "outputs": [],
   "source": [
    "dtau=0.8;\n",
    "errmax = pow(10,-4);\n",
    "itermax = pow(10,6);"
   ]
  },
  {
   "cell_type": "code",
   "execution_count": 4,
   "id": "equal-president",
   "metadata": {},
   "outputs": [],
   "source": [
    "### Variables\n",
    "### x[1], x[2], x[3], ... , x[dim]\n",
    "### \n",
    "x = []\n",
    "for i in range(0,dim):\n",
    "    vname = 'x[' + str(i) +']';\n",
    "    x.append(sy.symbols(vname));"
   ]
  },
  {
   "cell_type": "markdown",
   "id": "addressed-cornell",
   "metadata": {},
   "source": [
    "# Definition of Source in the Sympy style\n",
    "* **F**(**x**) : System of nonlinear equations\n",
    "* |**F**(**x**)| : Absolute components\n",
    "* J : Jacobian matrix $\\partial$ **F** / $\\partial$ **x**"
   ]
  },
  {
   "cell_type": "code",
   "execution_count": 5,
   "id": "lesser-choice",
   "metadata": {},
   "outputs": [],
   "source": [
    "f_rosenbrock = [];\n",
    "f_rosenbrock.append( 10*(x[1]-x[0]**2) );\n",
    "f_rosenbrock.append( 1 - x[0] );\n",
    "\n",
    "f_freudenstein = [];\n",
    "f_freudenstein.append( -13 +x[0] +((5-x[1])*x[1]-2)*x[1] );\n",
    "f_freudenstein.append( -29 +x[0] +((x[1]+1)*x[1]-14)*x[1] );\n",
    "\n",
    "f_powell = [];\n",
    "f_powell.append( pow(10,4)*x[0]*x[1] -1 );\n",
    "f_powell.append( exp(-x[0]) +exp(-x[1]) -1.0001 );\n",
    "\n",
    "f_brown = [];\n",
    "f_brown.append( x[0]*x[1]**2 -2*x[1] +x[0] -pow(10,6) );\n",
    "f_brown.append( x[0]**2*x[1] -2*x[0] +x[1] -2*pow(10,-6) );\n",
    "\n",
    "f_beale = [];\n",
    "f_beale.append( 1.5 -x[0]*(1-x[1]) );\n",
    "f_beale.append( 2.25 -x[0]*(1-x[1]**2) );\n",
    "\n",
    "f_hueso = [];\n",
    "f_hueso.append( (x[0]-1)**2*(x[0]-x[1]) );\n",
    "f_hueso.append( (x[1]-2)**5*cos(2*x[0]/x[1]) );\n",
    "\n",
    "f_fujisawa = [];\n",
    "f_fujisawa.append( x[0]**2 +x[1]**2 -4 );\n",
    "f_fujisawa.append( x[0]**2*x[1] -1 );\n"
   ]
  },
  {
   "cell_type": "code",
   "execution_count": 6,
   "id": "going-armenia",
   "metadata": {},
   "outputs": [],
   "source": [
    "# input source\n",
    "def calc_source(x,f):\n",
    "\n",
    "### Summation of absolute values of all terms in each equation\n",
    "###  to compare the error with the typical value of each equation\n",
    "    fa = [];\n",
    "    for j in range(dim):\n",
    "        tmp = 0;\n",
    "        for i in range(len(f[j].args)):\n",
    "            tmp = tmp + abs(f[j].args[i]);\n",
    "        fa.append(tmp);        \n",
    "\n",
    "### Definition of variables, sources, absolute sources(x, F, |F|) as vector\n",
    "    v = sy.Matrix([x]).transpose();\n",
    "    F = sy.Matrix([f]).transpose();\n",
    "    Fa = sy.Matrix([fa]).transpose();\n",
    "    \n",
    "### Analytic calculation of Jacobian(dim x dim Matrix)\n",
    "    J = sy.Matrix();\n",
    "    for i in range(dim):\n",
    "        J = J.col_insert(i,F.diff(x[i]));    \n",
    "\n",
    "### From Sympy to Numpy\n",
    "    arg = v.transpose();\n",
    "    vn = sy.lambdify(arg, v, \"numpy\")\n",
    "    Fn = sy.lambdify(arg, F, \"numpy\")\n",
    "    Fan = sy.lambdify(arg, Fa, \"numpy\")\n",
    "    Jacn = sy.lambdify(arg, J, \"numpy\")        \n",
    "        \n",
    "    return vn,Fn,Fan,Jacn;"
   ]
  },
  {
   "cell_type": "markdown",
   "id": "noble-melbourne",
   "metadata": {},
   "source": [
    "# Transformation from Sympy style to Numpy style"
   ]
  },
  {
   "cell_type": "code",
   "execution_count": 7,
   "id": "young-arthritis",
   "metadata": {},
   "outputs": [],
   "source": [
    "#vn, Fn, Fan, Jacn = calc_source(x,f);\n",
    "vn_rosenbrock, Fn_rosenbrock, Fan_rosenbrock, Jacn_rosenbrock = calc_source(x,f_rosenbrock);\n",
    "vn_freudenstein, Fn_freudenstein, Fan_freudenstein, Jacn_freudenstein = calc_source(x,f_freudenstein);\n",
    "vn_powell, Fn_powell, Fan_powell, Jacn_powell = calc_source(x,f_powell);\n",
    "vn_brown, Fn_brown, Fan_brown, Jacn_brown = calc_source(x,f_brown);\n",
    "vn_beale, Fn_beale, Fan_beale, Jacn_beale = calc_source(x,f_beale);\n",
    "vn_hueso, Fn_hueso, Fan_hueso, Jacn_hueso = calc_source(x,f_hueso);\n",
    "vn_fujisawa, Fn_fujisawa, Fan_fujisawa, Jacn_fujisawa = calc_source(x,f_fujisawa);"
   ]
  },
  {
   "cell_type": "markdown",
   "id": "voluntary-scotland",
   "metadata": {},
   "source": [
    "# Definition :: W4SV method"
   ]
  },
  {
   "cell_type": "code",
   "execution_count": 8,
   "id": "hazardous-train",
   "metadata": {},
   "outputs": [],
   "source": [
    "def w4sv(v,F,Fa,J,ini,dt,itermax,errmax):\n",
    "    \n",
    "    p0 = np.zeros(dim);\n",
    "    v0 = v(*ini).transpose()[0];\n",
    "\n",
    "    for i in range(itermax):\n",
    "        J0=J(*v0);\n",
    "        F0=F(*v0).transpose()[0].transpose();\n",
    "        Fa0=Fa(*v0).transpose()[0].transpose();\n",
    "#        print(v0);#,print(p0);\n",
    "        err = 0.0;\n",
    "        for k in range(dim):\n",
    "            err = max(err,abs(F0[k]/Fa0[k]));\n",
    "            \n",
    "        if err < errmax:\n",
    "            break;\n",
    "\n",
    "        U, s, V = np.linalg.svd(J0);\n",
    "        si = np.array([]);\n",
    "        for j in range(dim):\n",
    "            if s[j] > pow(10,-6):\n",
    "                si = np.append(si,1.0/s[j]);\n",
    "            else:\n",
    "                si = np.append(si,1.0);\n",
    "        \n",
    "        S = np.diag(si);\n",
    "\n",
    "        srcx = V.transpose().dot(p0);\n",
    "        tmp  = U.transpose().dot(F0);\n",
    "        srcp = -2*p0 -S.dot(tmp);\n",
    "\n",
    "        v0 = v0 +srcx*dt;\n",
    "        p0 = p0 +srcp*dt;\n",
    "        \n",
    "    return v0, i, err"
   ]
  },
  {
   "cell_type": "markdown",
   "id": "shaped-wells",
   "metadata": {},
   "source": [
    "# Initial conditions for test problems"
   ]
  },
  {
   "cell_type": "code",
   "execution_count": 9,
   "id": "absent-congo",
   "metadata": {},
   "outputs": [],
   "source": [
    "vini_rosenbrock = np.array([]);\n",
    "vini_rosenbrock = np.append(vini_rosenbrock, 1.2);\n",
    "vini_rosenbrock = np.append(vini_rosenbrock, 1.0);\n",
    "\n",
    "vini_freudenstein = np.array([]);\n",
    "vini_freudenstein = np.append(vini_freudenstein, 6.0);\n",
    "vini_freudenstein = np.append(vini_freudenstein, 3.0);\n",
    "\n",
    "vini_powell1 = np.array([]);\n",
    "vini_powell1 = np.append(vini_powell1, 0.0);\n",
    "vini_powell1 = np.append(vini_powell1, 1.0);\n",
    "\n",
    "vini_powell2 = np.array([]);\n",
    "vini_powell2 = np.append(vini_powell2, 1.0);\n",
    "vini_powell2 = np.append(vini_powell2, 1.0);\n",
    "\n",
    "\n",
    "vini_brown = np.array([]);\n",
    "vini_brown = np.append(vini_brown, 1.0);\n",
    "vini_brown = np.append(vini_brown, 1.0);\n",
    "\n",
    "vini_beale1 = np.array([]);\n",
    "vini_beale1 = np.append(vini_beale1, 1.0);\n",
    "vini_beale1 = np.append(vini_beale1, 1.0);\n",
    "\n",
    "vini_beale2 = np.array([]);\n",
    "vini_beale2 = np.append(vini_beale2, 0.0);\n",
    "vini_beale2 = np.append(vini_beale2, 2.0);\n",
    "\n",
    "\n",
    "vini_hueso = np.array([]);\n",
    "vini_hueso = np.append(vini_hueso, 1.5);\n",
    "vini_hueso = np.append(vini_hueso, 2.5);\n",
    "\n",
    "vini_fujisawa1 = np.array([]);\n",
    "vini_fujisawa1 = np.append(vini_fujisawa1, 0.0);\n",
    "vini_fujisawa1 = np.append(vini_fujisawa1, 1.0);\n",
    "\n",
    "vini_fujisawa2 = np.array([]);\n",
    "vini_fujisawa2 = np.append(vini_fujisawa2, 0.0);\n",
    "vini_fujisawa2 = np.append(vini_fujisawa2, -1.0);"
   ]
  },
  {
   "cell_type": "markdown",
   "id": "extended-clark",
   "metadata": {},
   "source": [
    "# Demonstrations\n",
    "\n",
    "* Rosenbrock's problem\n",
    "* Freudenstein's problem\n",
    "* Powell's problem (Two initial conditions)\n",
    "* Brown's problem\n",
    "* Beale's problem (Two initial conditions)\n",
    "* Hueso's problem\n",
    "* Fujisawa's problem (Two initial conditions)\n",
    "\n",
    "## Outputs :\n",
    "### ( Solution x and y, Number of iterations to obtain the solution, Convergence Error )"
   ]
  },
  {
   "cell_type": "code",
   "execution_count": 10,
   "id": "pediatric-geology",
   "metadata": {},
   "outputs": [
    {
     "data": {
      "text/plain": [
       "(array([1.00002179, 0.99990862]), 8, 6.747541260676108e-05)"
      ]
     },
     "execution_count": 10,
     "metadata": {},
     "output_type": "execute_result"
    }
   ],
   "source": [
    "vans_rosenbrock, iter, err = w4sv(vn_rosenbrock,Fn_rosenbrock,Fan_rosenbrock,Jacn_rosenbrock,vini_rosenbrock,dtau,itermax,errmax);\n",
    "vans_rosenbrock, iter, err"
   ]
  },
  {
   "cell_type": "code",
   "execution_count": 11,
   "id": "precious-overview",
   "metadata": {},
   "outputs": [
    {
     "data": {
      "text/plain": [
       "(array([4.99965717, 4.00003787]), 12, 2.775421593901657e-05)"
      ]
     },
     "execution_count": 11,
     "metadata": {},
     "output_type": "execute_result"
    }
   ],
   "source": [
    "vans_freudenstein, iter, err = w4sv(vn_freudenstein,Fn_freudenstein,Fan_freudenstein,Jacn_freudenstein,vini_freudenstein,dtau,itermax,errmax);\n",
    "vans_freudenstein, iter, err"
   ]
  },
  {
   "cell_type": "code",
   "execution_count": 12,
   "id": "catholic-volleyball",
   "metadata": {},
   "outputs": [
    {
     "data": {
      "text/plain": [
       "(array([1.09968758e-05, 9.09250845e+00]), 26, 5.407163390305365e-05)"
      ]
     },
     "execution_count": 12,
     "metadata": {},
     "output_type": "execute_result"
    }
   ],
   "source": [
    "vans_powell1, iter, err = w4sv(vn_powell,Fn_powell,Fan_powell,Jacn_powell,vini_powell1,dtau,itermax,errmax);\n",
    "vans_powell1, iter, err"
   ]
  },
  {
   "cell_type": "code",
   "execution_count": 13,
   "id": "extraordinary-trail",
   "metadata": {},
   "outputs": [
    {
     "data": {
      "text/plain": [
       "(array([1.10027403e-05, 9.08731140e+00]), 59, 7.336771587779154e-05)"
      ]
     },
     "execution_count": 13,
     "metadata": {},
     "output_type": "execute_result"
    }
   ],
   "source": [
    "vans_powell2, iter, err = w4sv(vn_powell,Fn_powell,Fan_powell,Jacn_powell,vini_powell2,dtau,itermax,errmax);\n",
    "vans_powell2, iter, err"
   ]
  },
  {
   "cell_type": "code",
   "execution_count": 14,
   "id": "invisible-withdrawal",
   "metadata": {},
   "outputs": [
    {
     "data": {
      "text/plain": [
       "(array([1.0000000e+06, 2.0002562e-06]), 10718, 6.404484485249837e-05)"
      ]
     },
     "execution_count": 14,
     "metadata": {},
     "output_type": "execute_result"
    }
   ],
   "source": [
    "vans_brown, iter, err = w4sv(vn_brown,Fn_brown,Fan_brown,Jacn_brown,vini_brown,dtau,itermax,errmax);\n",
    "vans_brown, iter, err"
   ]
  },
  {
   "cell_type": "code",
   "execution_count": 15,
   "id": "generic-grenada",
   "metadata": {},
   "outputs": [
    {
     "data": {
      "text/plain": [
       "(array([2.99877843, 0.49984387]), 22, 9.95741166744937e-05)"
      ]
     },
     "execution_count": 15,
     "metadata": {},
     "output_type": "execute_result"
    }
   ],
   "source": [
    "vans_beale1, iter, err = w4sv(vn_beale,Fn_beale,Fan_beale,Jacn_beale,vini_beale1,dtau,itermax,errmax);\n",
    "vans_beale1, iter, err"
   ]
  },
  {
   "cell_type": "code",
   "execution_count": 16,
   "id": "changing-elevation",
   "metadata": {},
   "outputs": [
    {
     "data": {
      "text/plain": [
       "(array([2.99875884, 0.49983835]), 25, 9.916446502411328e-05)"
      ]
     },
     "execution_count": 16,
     "metadata": {},
     "output_type": "execute_result"
    }
   ],
   "source": [
    "vans_beale2, iter, err = w4sv(vn_beale,Fn_beale,Fan_beale,Jacn_beale,vini_beale2,dtau,itermax,errmax);\n",
    "vans_beale2, iter, err"
   ]
  },
  {
   "cell_type": "code",
   "execution_count": 17,
   "id": "fantastic-lincoln",
   "metadata": {},
   "outputs": [
    {
     "data": {
      "text/plain": [
       "(array([1.00946852, 2.12834374]), 15, 8.964573957454906e-05)"
      ]
     },
     "execution_count": 17,
     "metadata": {},
     "output_type": "execute_result"
    }
   ],
   "source": [
    "vans_hueso, iter, err = w4sv(vn_hueso,Fn_hueso,Fan_hueso,Jacn_hueso,vini_hueso,dtau,itermax,errmax);\n",
    "vans_hueso, iter, err"
   ]
  },
  {
   "cell_type": "code",
   "execution_count": 18,
   "id": "female-logging",
   "metadata": {},
   "outputs": [
    {
     "data": {
      "text/plain": [
       "(array([-0.73308642,  1.8608578 ]), 10, 2.7094839157621983e-05)"
      ]
     },
     "execution_count": 18,
     "metadata": {},
     "output_type": "execute_result"
    }
   ],
   "source": [
    "vans_fujisawa1, iter, err = w4sv(vn_fujisawa,Fn_fujisawa,Fan_fujisawa,Jacn_fujisawa,vini_fujisawa1,dtau,itermax,errmax);\n",
    "vans_fujisawa1, iter, err"
   ]
  },
  {
   "cell_type": "code",
   "execution_count": 19,
   "id": "supposed-campaign",
   "metadata": {},
   "outputs": [
    {
     "data": {
      "text/plain": [
       "(array([-1.9838824 ,  0.25407058]), 76, 4.265257948210913e-05)"
      ]
     },
     "execution_count": 19,
     "metadata": {},
     "output_type": "execute_result"
    }
   ],
   "source": [
    "vans_fujisawa2, iter, err = w4sv(vn_fujisawa,Fn_fujisawa,Fan_fujisawa,Jacn_fujisawa,vini_fujisawa2,dtau,itermax,errmax);\n",
    "vans_fujisawa2, iter, err"
   ]
  },
  {
   "cell_type": "code",
   "execution_count": null,
   "id": "superb-civilization",
   "metadata": {},
   "outputs": [],
   "source": []
  },
  {
   "cell_type": "code",
   "execution_count": null,
   "id": "patent-listing",
   "metadata": {},
   "outputs": [],
   "source": []
  },
  {
   "cell_type": "code",
   "execution_count": null,
   "id": "round-yorkshire",
   "metadata": {},
   "outputs": [],
   "source": []
  }
 ],
 "metadata": {
  "kernelspec": {
   "display_name": "Python 3",
   "language": "python",
   "name": "python3"
  },
  "language_info": {
   "codemirror_mode": {
    "name": "ipython",
    "version": 3
   },
   "file_extension": ".py",
   "mimetype": "text/x-python",
   "name": "python",
   "nbconvert_exporter": "python",
   "pygments_lexer": "ipython3",
   "version": "3.9.2"
  }
 },
 "nbformat": 4,
 "nbformat_minor": 5
}
